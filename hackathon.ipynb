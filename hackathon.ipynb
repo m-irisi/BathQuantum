{
 "cells": [
  {
   "cell_type": "code",
   "execution_count": 4,
   "metadata": {},
   "outputs": [
    {
     "name": "stdout",
     "output_type": "stream",
     "text": [
      "The autoreload extension is already loaded. To reload it, use:\n",
      "  %reload_ext autoreload\n"
     ]
    }
   ],
   "source": [
    "%load_ext autoreload\n",
    "%autoreload 2"
   ]
  },
  {
   "cell_type": "markdown",
   "metadata": {},
   "source": [
    "# STEPS THAT I WOULD FOLLOW TO SOLVE THE CHALLENGE"
   ]
  },
  {
   "cell_type": "markdown",
   "metadata": {},
   "source": [
    "## 1. Plot the given graph"
   ]
  },
  {
   "cell_type": "markdown",
   "metadata": {},
   "source": [
    "Let us imagine that we want to color a $N = 4$ nodes graph with the following edges:\n",
    "$(0,1), (0,2), (1, 2),$ and $(2, 3)$\n",
    "\n",
    "With $k = 3$ colors."
   ]
  },
  {
   "cell_type": "code",
   "execution_count": 5,
   "metadata": {},
   "outputs": [],
   "source": [
    "k = 3\n",
    "N = 4"
   ]
  },
  {
   "cell_type": "code",
   "execution_count": 9,
   "metadata": {},
   "outputs": [
    {
     "ename": "TypeError",
     "evalue": "'_AxesStack' object is not callable",
     "output_type": "error",
     "traceback": [
      "\u001b[1;31m---------------------------------------------------------------------------\u001b[0m",
      "\u001b[1;31mTypeError\u001b[0m                                 Traceback (most recent call last)",
      "Cell \u001b[1;32mIn[9], line 9\u001b[0m\n\u001b[0;32m      7\u001b[0m g\u001b[38;5;241m.\u001b[39madd_edge(\u001b[38;5;241m1\u001b[39m, \u001b[38;5;241m2\u001b[39m)\n\u001b[0;32m      8\u001b[0m g\u001b[38;5;241m.\u001b[39madd_edge(\u001b[38;5;241m2\u001b[39m, \u001b[38;5;241m3\u001b[39m)\n\u001b[1;32m----> 9\u001b[0m \u001b[43mnx\u001b[49m\u001b[38;5;241;43m.\u001b[39;49m\u001b[43mdraw\u001b[49m\u001b[43m(\u001b[49m\u001b[43mg\u001b[49m\u001b[43m,\u001b[49m\u001b[43m \u001b[49m\u001b[43m{\u001b[49m\u001b[38;5;241;43m0\u001b[39;49m\u001b[43m:\u001b[49m\u001b[43m \u001b[49m\u001b[43m(\u001b[49m\u001b[38;5;241;43m0\u001b[39;49m\u001b[43m,\u001b[49m\u001b[43m \u001b[49m\u001b[38;5;241;43m0\u001b[39;49m\u001b[43m)\u001b[49m\u001b[43m,\u001b[49m\u001b[43m \u001b[49m\u001b[38;5;241;43m1\u001b[39;49m\u001b[43m:\u001b[49m\u001b[43m \u001b[49m\u001b[43m(\u001b[49m\u001b[38;5;241;43m0\u001b[39;49m\u001b[43m,\u001b[49m\u001b[43m \u001b[49m\u001b[38;5;241;43m2\u001b[39;49m\u001b[43m)\u001b[49m\u001b[43m,\u001b[49m\u001b[43m \u001b[49m\u001b[38;5;241;43m2\u001b[39;49m\u001b[43m:\u001b[49m\u001b[43m \u001b[49m\u001b[43m(\u001b[49m\u001b[38;5;241;43m1\u001b[39;49m\u001b[43m,\u001b[49m\u001b[43m \u001b[49m\u001b[38;5;241;43m1\u001b[39;49m\u001b[43m)\u001b[49m\u001b[43m,\u001b[49m\u001b[43m \u001b[49m\u001b[38;5;241;43m3\u001b[39;49m\u001b[43m:\u001b[49m\u001b[43m \u001b[49m\u001b[43m(\u001b[49m\u001b[38;5;241;43m2\u001b[39;49m\u001b[43m,\u001b[49m\u001b[43m \u001b[49m\u001b[38;5;241;43m1\u001b[39;49m\u001b[43m)\u001b[49m\u001b[43m}\u001b[49m\u001b[43m,\u001b[49m\u001b[43m \u001b[49m\u001b[43mnode_size\u001b[49m\u001b[38;5;241;43m=\u001b[39;49m\u001b[38;5;241;43m1000\u001b[39;49m\u001b[43m)\u001b[49m\n\u001b[0;32m     10\u001b[0m plt\u001b[38;5;241m.\u001b[39mshow()\n",
      "File \u001b[1;32m~\\anaconda3\\lib\\site-packages\\networkx\\drawing\\nx_pylab.py:113\u001b[0m, in \u001b[0;36mdraw\u001b[1;34m(G, pos, ax, **kwds)\u001b[0m\n\u001b[0;32m    111\u001b[0m cf\u001b[38;5;241m.\u001b[39mset_facecolor(\u001b[38;5;124m\"\u001b[39m\u001b[38;5;124mw\u001b[39m\u001b[38;5;124m\"\u001b[39m)\n\u001b[0;32m    112\u001b[0m \u001b[38;5;28;01mif\u001b[39;00m ax \u001b[38;5;129;01mis\u001b[39;00m \u001b[38;5;28;01mNone\u001b[39;00m:\n\u001b[1;32m--> 113\u001b[0m     \u001b[38;5;28;01mif\u001b[39;00m \u001b[43mcf\u001b[49m\u001b[38;5;241;43m.\u001b[39;49m\u001b[43m_axstack\u001b[49m\u001b[43m(\u001b[49m\u001b[43m)\u001b[49m \u001b[38;5;129;01mis\u001b[39;00m \u001b[38;5;28;01mNone\u001b[39;00m:\n\u001b[0;32m    114\u001b[0m         ax \u001b[38;5;241m=\u001b[39m cf\u001b[38;5;241m.\u001b[39madd_axes((\u001b[38;5;241m0\u001b[39m, \u001b[38;5;241m0\u001b[39m, \u001b[38;5;241m1\u001b[39m, \u001b[38;5;241m1\u001b[39m))\n\u001b[0;32m    115\u001b[0m     \u001b[38;5;28;01melse\u001b[39;00m:\n",
      "\u001b[1;31mTypeError\u001b[0m: '_AxesStack' object is not callable"
     ]
    },
    {
     "data": {
      "text/plain": [
       "<Figure size 640x480 with 0 Axes>"
      ]
     },
     "metadata": {},
     "output_type": "display_data"
    }
   ],
   "source": [
    "import networkx as nx\n",
    "import matplotlib.pyplot as plt\n",
    "\n",
    "g = nx.Graph()\n",
    "g.add_edge(0, 1)\n",
    "g.add_edge(0, 2)\n",
    "g.add_edge(1, 2)\n",
    "g.add_edge(2, 3)\n",
    "nx.draw(g, {0: (0, 0), 1: (0, 2), 2: (1, 1), 3: (2, 1)}, node_size=1000)\n",
    "plt.show()"
   ]
  },
  {
   "cell_type": "markdown",
   "metadata": {},
   "source": [
    "## 2. Get a the QUBO problem"
   ]
  },
  {
   "cell_type": "markdown",
   "metadata": {},
   "source": [
    "### 2.1. Encode the problem as a graph of $n = k N$ nodes and find the QUBO \n",
    "\n",
    "The cost function of the QUBO looks like:\n",
    "\n",
    "$$ f(\\vec x) = \\sum_i^n \\sum_j^n Q_{ij} x_ix_j,$$\n",
    "\n",
    "If one looks (for a while) at the given cost function:\n",
    "\n",
    "$$ f(\\vec x) = \n",
    "A \\sum_v^N(1 - \\sum_{i=1}^{k} x_{v,i})^2 + A \\sum_{(uv) \\in E} \\sum_{i=1}^{k} x_{u,i}x_{v,i}\n",
    "$$\n",
    "\n",
    "It can be seen that:\n",
    "$$\n",
    "Q_{ijuv} = \\left \\{ \n",
    "\\begin{array}{c}\n",
    "         -A &\\quad i= j\\text{ and }u= v  \\\\  \n",
    "\\,\\,\\,\\,  A &\\quad i= j\\text{ and }u\\neq v  \\\\\n",
    "\\,\\,\\,\\,  A &\\quad i\\neq j\\text{ and }u= v  \\\\  \n",
    "\\,\\,\\,\\,  0 &\\quad i\\neq j\\text{ and }u\\neq v  \n",
    "\\end{array}       \n",
    "\\right .\n",
    "$$\n",
    "\n",
    "To make it a little more clear, one can define new indices, for example: $q=u*k + i$, which leads to:\n",
    "$$\n",
    "Q_{qr} = \\left \\{ \n",
    "\\begin{array}{cl}\n",
    "         -A &\\quad q= r  \\\\\n",
    "\\,\\,\\,\\,  A &\\quad q \\text{ mod } k = r \\text{ mod } k \\\\\n",
    "\\,\\,\\,\\,  A &\\quad q - (q \\text{ mod } k) = r - (r \\text{ mod } k)  \\\\\n",
    "\\,\\,\\,\\,  0 &\\quad \\text{otherwise}  \n",
    "\\end{array}       \n",
    "\\right .\n",
    "$$\n"
   ]
  },
  {
   "cell_type": "markdown",
   "metadata": {},
   "source": [
    "### 2.2. Visualize the resulting problem (it could be useful to draw that by hand before 2.1.)"
   ]
  },
  {
   "cell_type": "code",
   "execution_count": null,
   "metadata": {},
   "outputs": [],
   "source": [
    "g2 = nx.Graph()\n",
    "initial_edges = [(0, 1), (0, 2), (1, 2), (2, 3)]\n",
    "q = lambda u, i: u*k + i\n",
    "for u in range(N):\n",
    "    for i in range(k):\n",
    "        for j in range(k):\n",
    "            if i != j:\n",
    "                g2.add_edge(q(u, i), q(u, j))\n",
    "\n",
    "new_edges = [ (q(u, i), q(v, i)) for u, v in initial_edges for i in range(k)]\n",
    "g2.add_edges_from(new_edges)\n",
    "pos = {0: (0, 0), 1: (0, 2), 2: (2, 1), 3: (5, 1)}\n",
    "new_pos = {q(u, i): (pos[u][0] + i*0.2**(i-1), pos[u][1]+ i*0.2) for u in range(N) for i in range(k)}\n",
    "colors = ['red', 'blue', 'green', 'yellow']\n",
    "nx.draw(g2, new_pos, node_color= [colors[i] for _ in range(N) for i in range(k)])\n",
    "plt.show()"
   ]
  },
  {
   "cell_type": "markdown",
   "metadata": {},
   "source": [
    "The edges between nodes of the same color try not to have the same color in adjacent nodes\n",
    "\n",
    "and edges between nodes of different color try not to have more than one color in each problem node\n",
    "\n",
    "Remember here each problem node has been mapped to $k$ nodes in a new graph"
   ]
  },
  {
   "cell_type": "markdown",
   "metadata": {},
   "source": [
    "## 3. Code the `graph_coloring_qubo` function"
   ]
  },
  {
   "cell_type": "markdown",
   "metadata": {},
   "source": [
    "Now that we know how to create the $Q$ matrix we can create the QUBO object.\n",
    "\n",
    "And we will get the cost function of a QUBO problem in the Ising encoding (we need that one to create the QUBO object):\n",
    "\n",
    "$$ f(\\vec s) = \\sum_{\\langle i\\,j\\rangle}J_{ij} s_is_j \\,+\\, \\sum_i^n h_i s_i,$$ \n",
    "\n",
    "Thanks to this relation:\n",
    "\n",
    "$$ \\begin{array}{c}\n",
    "J_{ij} = \\frac{1}{4}Q_{ij} \\quad \\quad J_{ii} = 0  \\\\\n",
    " \\\\\n",
    "h_i = - \\frac{1}{2}Q_{ii} - \\frac{1}{4} \\sum_{ \\substack{j=0 \\\\ j\\neq i}}^nQ_{ij}\n",
    "\\end{array}$$"
   ]
  },
  {
   "cell_type": "code",
   "execution_count": null,
   "metadata": {},
   "outputs": [],
   "source": [
    "from openqaoa.problems import QUBO\n",
    "import numpy as np\n",
    "\n",
    "def graph_coloring_qubo(G, k, A=10) -> QUBO:\n",
    "    \"\"\"\n",
    "    Returns the QUBO encoding of the graph coloring problem.\n",
    "    \n",
    "    Parameters\n",
    "    ----------\n",
    "    G: networkx.Graph\n",
    "        The graph to be colored.\n",
    "    k: int\n",
    "        The number of colors to be used.\n",
    "    A: float\n",
    "        The weight of the terms\n",
    "\n",
    "    Returns\n",
    "    -------\n",
    "    Q: dict\n",
    "        The QUBO encoding of the graph coloring problem.\n",
    "    \"\"\"\n",
    "\n",
    "    n_nodes = G.number_of_nodes()\n",
    "    new_n_nodes = k*n_nodes\n",
    "\n",
    "    j = lambda v,i: v*k + i # j(v,i) is the index of the new nodes corresponding to the old node v and color i\n",
    "\n",
    "    # create matrix Q\n",
    "    matrix_Q = np.zeros((new_n_nodes, new_n_nodes))\n",
    "    for u, v in g.edges():\n",
    "        for i in range(k):\n",
    "            matrix_Q[j(u, i), j(v, i)] += A\n",
    "            matrix_Q[j(v, i), j(u, i)] += A\n",
    "\n",
    "    for u in g.nodes():\n",
    "        for i, ii in nx.generators.complete_graph(n=k).edges():\n",
    "            matrix_Q[j(u, i), j(u, ii)] += A\n",
    "            matrix_Q[j(u, ii), j(u, i)] += A\n",
    "\n",
    "    for u in g.nodes():\n",
    "        for i in range(k):\n",
    "            matrix_Q[j(u, i), j(u, i)] -= A\n",
    "            \n",
    "    # transform Q to J and h (bits to Ising)\n",
    "    matrix_J = np.zeros((new_n_nodes, new_n_nodes))\n",
    "    list_h = np.zeros(new_n_nodes)\n",
    "    for i in range(new_n_nodes): \n",
    "\n",
    "        list_h[i] = - (matrix_Q[i, i] + sum([matrix_Q[i, j] for j in range(new_n_nodes)])) / 4\n",
    "\n",
    "        for j in range(new_n_nodes):\n",
    "            if i != j:\n",
    "                matrix_J[i,j] = matrix_Q[i, j] / 4\n",
    "\n",
    "    # get the terms and weights of the QUBO object\n",
    "    terms = []\n",
    "    weights = []\n",
    "\n",
    "    for i in range(new_n_nodes):\n",
    "\n",
    "        terms.append([i])\n",
    "        weights.append(list_h[i])\n",
    "\n",
    "        for j in range(i+1, new_n_nodes):\n",
    "            if matrix_J[i,j] != 0:\n",
    "                terms.append([i, j])\n",
    "                weights.append(matrix_J[i,j])\n",
    "\n",
    "    #return the QUBO object\n",
    "    return QUBO(new_n_nodes, terms, weights)"
   ]
  },
  {
   "cell_type": "markdown",
   "metadata": {},
   "source": [
    "## 4. Get the QUBO object of the problem"
   ]
  },
  {
   "cell_type": "code",
   "execution_count": null,
   "metadata": {},
   "outputs": [],
   "source": [
    "gc_qubo = graph_coloring_qubo(g, k)"
   ]
  },
  {
   "cell_type": "code",
   "execution_count": null,
   "metadata": {},
   "outputs": [],
   "source": [
    "gc_qubo.asdict()"
   ]
  },
  {
   "cell_type": "markdown",
   "metadata": {},
   "source": [
    "## 5. Solve the problem classically"
   ]
  },
  {
   "cell_type": "code",
   "execution_count": null,
   "metadata": {},
   "outputs": [],
   "source": [
    "from openqaoa.utilities import ground_state_hamiltonian\n",
    "cl_energy, cl_solutions_bitstrings = ground_state_hamiltonian(gc_qubo.hamiltonian)"
   ]
  },
  {
   "cell_type": "code",
   "execution_count": null,
   "metadata": {},
   "outputs": [],
   "source": [
    "print(f'Classical energy: {cl_energy}')\n",
    "print(f'Classical solutions: {cl_solutions_bitstrings}')"
   ]
  },
  {
   "cell_type": "markdown",
   "metadata": {},
   "source": [
    "This solutions are hard to read since we have mapped one node to $k$ nodes, let's write some function that returns a string $x=x_0x_1...x_N$, where $x_i \\in \\{0,1,...,k-1\\}$"
   ]
  },
  {
   "cell_type": "code",
   "execution_count": null,
   "metadata": {},
   "outputs": [],
   "source": [
    "## FUNCTIONS THAT WILL BE USEFUL TO DRAW THE RESULTS\n",
    "\n",
    "def generate_bitstrings(n):\n",
    "    \"\"\"\n",
    "    This function generates all possible bitstrings of length n.\n",
    "\n",
    "    Parameters:\n",
    "    n: int\n",
    "        the length of the bitstrings to generate\n",
    "\n",
    "    Returns:\n",
    "        A list of all possible bitstrings of length n.\n",
    "    \"\"\"\n",
    "    bitstrings = []\n",
    "    for i in range(2**n):\n",
    "        bitstrings.append(bin(i)[2:].zfill(n))\n",
    "    return bitstrings\n",
    "\n",
    "def binary_to_knary(bitstr, k):\n",
    "    \"\"\"\n",
    "    Converts a bitstr to a k-nary number of length len(x)/k. \n",
    "    Example: binary_to_knary('001001100010', k=3) = '2201'  \n",
    "\n",
    "    Parameters\n",
    "    ----------\n",
    "    bitstr: str\n",
    "        The binary number to be converted.\n",
    "    k: int\n",
    "        Number of colors.\n",
    "\n",
    "    Returns\n",
    "    -------\n",
    "    knary: str\n",
    "    \"\"\"\n",
    "    assert len(bitstr) % k == 0, \"len(bitstr) must be a multiple of k\"\n",
    "    n = len(bitstr)//k\n",
    "\n",
    "    binary_colors = dict(zip(['0'*(k-i-1) + '1' + '0'*i for i in range(k)], range(k)))\n",
    "    binary_colors = {bitstr: 'x' if not bitstr in binary_colors else binary_colors[bitstr] for bitstr in generate_bitstrings(k)}\n",
    "\n",
    "    return ''.join([str(binary_colors[bitstr[i*k:(i+1)*k]]) for i in range(n)])"
   ]
  },
  {
   "cell_type": "code",
   "execution_count": null,
   "metadata": {},
   "outputs": [],
   "source": [
    "color_map = {   \n",
    "    '0': 'blue', \n",
    "    '1': 'red', \n",
    "    '2': 'green',\n",
    "    '3': 'orange',\n",
    "    '4': 'purple',\n",
    "    '5': 'brown',\n",
    "    '6': 'pink',\n",
    "    '7': 'gray',\n",
    "    '8': 'olive',\n",
    "    '9': 'cyan', \n",
    "    'x': 'black'}\n",
    "\n",
    "for i, solution in enumerate(cl_solutions_bitstrings):\n",
    "    solution = binary_to_knary(cl_solutions_bitstrings[0], k)\n",
    "    node_colors = {node: color_map[color] for node, color in zip(set(g.nodes()), solution)}\n",
    "    nx.draw(g, node_color=[node_colors[node] for node in g.nodes()])\n",
    "    plt.show()\n",
    "\n",
    "    if i == 2: break # plot just 3 graphs"
   ]
  },
  {
   "cell_type": "markdown",
   "metadata": {},
   "source": [
    "## 6. Solve the problem with QAOA in a Quantum Simulator"
   ]
  },
  {
   "cell_type": "code",
   "execution_count": null,
   "metadata": {},
   "outputs": [],
   "source": [
    "from openqaoa import QAOA\n",
    "\n",
    "q = QAOA()\n",
    "q.compile(gc_qubo)\n",
    "q.optimize()"
   ]
  },
  {
   "cell_type": "code",
   "execution_count": null,
   "metadata": {},
   "outputs": [],
   "source": [
    "q.results.plot_cost()"
   ]
  },
  {
   "cell_type": "code",
   "execution_count": null,
   "metadata": {},
   "outputs": [],
   "source": [
    "q.results.optimized"
   ]
  },
  {
   "cell_type": "code",
   "execution_count": null,
   "metadata": {},
   "outputs": [],
   "source": [
    "solutions_bitstrings, energy = q.results.most_probable_states.values()\n",
    "solutions = [binary_to_knary(bitstr, k) for bitstr in solutions_bitstrings]"
   ]
  },
  {
   "cell_type": "code",
   "execution_count": null,
   "metadata": {},
   "outputs": [],
   "source": [
    "print(f'energy: {energy}')\n",
    "print(f'solutions: {solutions}')"
   ]
  },
  {
   "cell_type": "code",
   "execution_count": null,
   "metadata": {},
   "outputs": [],
   "source": [
    "# Draw the graph with the assigned node colors\n",
    "for i, each in enumerate(solutions):\n",
    "    node_colors = {node: color_map[color] for node, color in zip(set(g.nodes()), each)}\n",
    "    nx.draw(g, node_color=[node_colors[node] for node in g.nodes()])\n",
    "    plt.show()\n",
    "\n",
    "    if i == 2: break #just show 3 graphs"
   ]
  },
  {
   "cell_type": "markdown",
   "metadata": {},
   "source": [
    "## 7. Run different problems"
   ]
  },
  {
   "cell_type": "code",
   "execution_count": null,
   "metadata": {},
   "outputs": [],
   "source": [
    "def coloring_with_qaoa(graph, k=2):\n",
    "    # get qubo\n",
    "    gc_qubo = graph_coloring_qubo(graph, k=k)\n",
    "\n",
    "    # check classical solutions\n",
    "    cl_energy, cl_solutions_bitstrings = ground_state_hamiltonian(gc_qubo.hamiltonian)\n",
    "    print(f'Classical energy: {cl_energy}')\n",
    "    print(f'Classical solutions: {cl_solutions_bitstrings}')\n",
    "\n",
    "    # run qaoa\n",
    "    q = QAOA()\n",
    "    q.compile(gc_qubo)\n",
    "    q.optimize()\n",
    "\n",
    "    # get results\n",
    "    solutions_bitstrings, energy = q.results.most_probable_states.values()\n",
    "    solutions = [binary_to_knary(bitstr, k) for bitstr in solutions_bitstrings]\n",
    "    print(f'energy: {energy}')\n",
    "    print(f'solutions: {solutions}')\n",
    "\n",
    "    # plot \n",
    "    for i, each in enumerate(solutions):\n",
    "        node_colors = {node: color_map[color] for node, color in zip(set(g.nodes()), each)}\n",
    "        nx.draw(g, node_color=[node_colors[node] for node in g.nodes()])\n",
    "        plt.show()\n",
    "\n",
    "        if i == 1: break #just show 2 graphs"
   ]
  },
  {
   "cell_type": "code",
   "execution_count": null,
   "metadata": {},
   "outputs": [],
   "source": [
    "# solve the last problem but with 4 colors\n",
    "coloring_with_qaoa(g, k=4)"
   ]
  },
  {
   "cell_type": "code",
   "execution_count": null,
   "metadata": {},
   "outputs": [],
   "source": [
    "g = nx.Graph()\n",
    "g.add_edges_from([ (0,1),(0,2),(0,3) ])\n",
    "coloring_with_qaoa(g, k=2)"
   ]
  },
  {
   "cell_type": "code",
   "execution_count": null,
   "metadata": {},
   "outputs": [],
   "source": [
    "g = nx.Graph()\n",
    "g.add_edges_from([\n",
    "                    (0,1), (0,2), (0,4), (0,5), \n",
    "                    (1,2), (1,3), (1,5),\n",
    "                    (2,3), (2,4), \n",
    "                    (3,4), (3,5),\n",
    "                    (4,5) \n",
    "                ])\n",
    "\n",
    "coloring_with_qaoa(g, k=3)"
   ]
  },
  {
   "cell_type": "code",
   "execution_count": null,
   "metadata": {},
   "outputs": [],
   "source": [
    "g = nx.Graph()\n",
    "g.add_edges_from([\n",
    "                    (0,1), (0,2), (0,3), (0,4), (0,5), (0,6),\n",
    "                    (1,2), (2,3), (3,4), (4,5), (5,6), (6,1)\n",
    "                ])\n",
    "\n",
    "coloring_with_qaoa(g, k=3)"
   ]
  },
  {
   "cell_type": "markdown",
   "metadata": {},
   "source": [
    "## 8. Play with QAOA"
   ]
  },
  {
   "cell_type": "markdown",
   "metadata": {},
   "source": [
    "For this last graph we haven't found the optimal solution, one could play with QAOA, change $p$, type of parameters, initialization, etc.. "
   ]
  }
 ],
 "metadata": {
  "kernelspec": {
   "display_name": "Python 3 (ipykernel)",
   "language": "python",
   "name": "python3"
  },
  "language_info": {
   "codemirror_mode": {
    "name": "ipython",
    "version": 3
   },
   "file_extension": ".py",
   "mimetype": "text/x-python",
   "name": "python",
   "nbconvert_exporter": "python",
   "pygments_lexer": "ipython3",
   "version": "3.9.7"
  },
  "vscode": {
   "interpreter": {
    "hash": "c2624fc7126dc84539db96afb108ab094dd5f0ccef8d91873b73b01fbef81918"
   }
  }
 },
 "nbformat": 4,
 "nbformat_minor": 4
}
